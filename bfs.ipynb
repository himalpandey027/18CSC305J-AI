{
  "nbformat": 4,
  "nbformat_minor": 0,
  "metadata": {
    "colab": {
      "name": "bfs.ipynb",
      "provenance": []
    },
    "kernelspec": {
      "name": "python3",
      "display_name": "Python 3"
    },
    "language_info": {
      "name": "python"
    }
  },
  "cells": [
    {
      "cell_type": "markdown",
      "metadata": {
        "id": "VibNqOb3BH15"
      },
      "source": [
        "# BFS"
      ]
    },
    {
      "cell_type": "code",
      "metadata": {
        "colab": {
          "base_uri": "https://localhost:8080/"
        },
        "id": "YJ12sG4P92gx",
        "outputId": "a18da52d-4d8f-4e04-e02d-ab14275d7c6c"
      },
      "source": [
        "graph = {\n",
        "  'A' : ['B','C'],\n",
        "  'B' : ['D', 'E'],\n",
        "  'C' : ['F'],\n",
        "  'D' : [],\n",
        "  'E' : ['F'],\n",
        "  'F' : []\n",
        "}\n",
        "\n",
        "visited = [] # List to keep track of visited nodes.\n",
        "queue = []     #Initialize a queue\n",
        "\n",
        "def bfs(visited, graph, node):\n",
        "  visited.append(node)\n",
        "  queue.append(node)\n",
        "\n",
        "  while queue:\n",
        "    s = queue.pop(0) \n",
        "    print (s, end = \" \") \n",
        "\n",
        "    for neighbour in graph[s]:\n",
        "      if neighbour not in visited:\n",
        "        visited.append(neighbour)\n",
        "        queue.append(neighbour)\n",
        "\n",
        "# Driver Code\n",
        "t0 = time.time()\n",
        "bfs(visited, graph, 'A')\n",
        "t = time.time() - t0\n",
        "print('\\nTime taken for execution is : ', t)"
      ],
      "execution_count": 16,
      "outputs": [
        {
          "output_type": "stream",
          "text": [
            "A B C D E F \n",
            "Time taken for execution is :  0.001543283462524414\n"
          ],
          "name": "stdout"
        }
      ]
    },
    {
      "cell_type": "code",
      "metadata": {
        "id": "CiXr-DVs_ujY"
      },
      "source": [
        ""
      ],
      "execution_count": null,
      "outputs": []
    }
  ]
}