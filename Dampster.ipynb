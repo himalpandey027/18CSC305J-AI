{
 "cells": [
  {
   "cell_type": "code",
   "execution_count": null,
   "id": "9f146424",
   "metadata": {},
   "outputs": [],
   "source": [
    "from itertools import combinations\n",
    "\n",
    "def combine_beliefs(beliefs):\n",
    "    \"\"\"\n",
    "    Combine belief functions using Dempster's rule.\n",
    "    \"\"\"\n",
    "    combined_belief = {}\n",
    "    for subset_size in range(len(beliefs) + 1):\n",
    "        for subset in combinations(beliefs.keys(), subset_size):\n",
    "            if subset_size == 0:\n",
    "                combined_mass = 1\n",
    "                for remaining_event in beliefs.keys():\n",
    "                    combined_mass *= (1 - beliefs[remaining_event])\n",
    "            else:\n",
    "                combined_mass = 0\n",
    "                for subset_event in subset:\n",
    "                    if subset_size % 2 == 1:  # odd\n",
    "                        combined_mass += beliefs[subset_event]\n",
    "                    else:  # even\n",
    "                        combined_mass -= beliefs[subset_event]\n",
    "            combined_belief[subset] = combined_mass\n",
    "    return combined_belief\n",
    "\n",
    "# Initialize belief functions for each suspect\n",
    "belief_functions = {'A': 1/3, 'C': 1/3, 'D': 1/3}\n",
    "\n",
    "# B is dead, so we have no belief about whether B is the murderer or not\n",
    "belief_functions['B'] = 0\n",
    "\n",
    "# Combine belief functions\n",
    "combined_belief = combine_beliefs(beliefs=belief_functions)\n",
    "\n",
    "# Print combined belief function\n",
    "print(\"Combined Belief Function:\")\n",
    "for event, mass in combined_belief.items():\n",
    "    print(f\"Event: {event}, Mass: {mass}\")\n",
    "\n",
    "# Determine the most likely murderer\n",
    "most_likely_murderer = max(combined_belief, key=combined_belief.get)\n",
    "print(\"\\nMost likely murderer is:\", most_likely_murderer)"
   ]
  }
 ],
 "metadata": {
  "kernelspec": {
   "display_name": "Python 3 (ipykernel)",
   "language": "python",
   "name": "python3"
  },
  "language_info": {
   "codemirror_mode": {
    "name": "ipython",
    "version": 3
   },
   "file_extension": ".py",
   "mimetype": "text/x-python",
   "name": "python",
   "nbconvert_exporter": "python",
   "pygments_lexer": "ipython3",
   "version": "3.9.13"
  }
 },
 "nbformat": 4,
 "nbformat_minor": 5
}
