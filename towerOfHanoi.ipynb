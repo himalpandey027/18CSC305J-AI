{
  "nbformat": 4,
  "nbformat_minor": 0,
  "metadata": {
    "colab": {
      "name": "towerOfHanoi.ipynb",
      "provenance": []
    },
    "kernelspec": {
      "name": "python3",
      "display_name": "Python 3"
    },
    "language_info": {
      "name": "python"
    }
  },
  "cells": [
    {
      "cell_type": "code",
      "metadata": {
        "colab": {
          "base_uri": "https://localhost:8080/"
        },
        "id": "YJ12sG4P92gx",
        "outputId": "7c6d95fe-298d-492b-dac5-0f81d1c2b46f"
      },
      "source": [
        "def TowerOfHanoi(n , source, destination, auxiliary): \n",
        "    if n==1: \n",
        "        print (\"Move disk 1 from source\",source,\"to destination\",destination) \n",
        "        return\n",
        "    TowerOfHanoi(n-1, source, auxiliary, destination) \n",
        "    print (\"Move disk\",n,\"from source\",source,\"to destination\",destination) \n",
        "    TowerOfHanoi(n-1, auxiliary, destination, source) \n",
        "n = int(input(\"Enter number of Disks:\"))\n"
      ],
      "execution_count": 1,
      "outputs": [
        {
          "output_type": "stream",
          "text": [
            "Enter number of Disks:5\n"
          ],
          "name": "stdout"
        }
      ]
    },
    {
      "cell_type": "code",
      "metadata": {
        "colab": {
          "base_uri": "https://localhost:8080/"
        },
        "id": "a71qi5KI9_k-",
        "outputId": "65da2f93-2da0-4fc3-904b-a7e827324840"
      },
      "source": [
        "TowerOfHanoi(n,'A','B','C')"
      ],
      "execution_count": 2,
      "outputs": [
        {
          "output_type": "stream",
          "text": [
            "Move disk 1 from source A to destination B\n",
            "Move disk 2 from source A to destination C\n",
            "Move disk 1 from source B to destination C\n",
            "Move disk 3 from source A to destination B\n",
            "Move disk 1 from source C to destination A\n",
            "Move disk 2 from source C to destination B\n",
            "Move disk 1 from source A to destination B\n",
            "Move disk 4 from source A to destination C\n",
            "Move disk 1 from source B to destination C\n",
            "Move disk 2 from source B to destination A\n",
            "Move disk 1 from source C to destination A\n",
            "Move disk 3 from source B to destination C\n",
            "Move disk 1 from source A to destination B\n",
            "Move disk 2 from source A to destination C\n",
            "Move disk 1 from source B to destination C\n",
            "Move disk 5 from source A to destination B\n",
            "Move disk 1 from source C to destination A\n",
            "Move disk 2 from source C to destination B\n",
            "Move disk 1 from source A to destination B\n",
            "Move disk 3 from source C to destination A\n",
            "Move disk 1 from source B to destination C\n",
            "Move disk 2 from source B to destination A\n",
            "Move disk 1 from source C to destination A\n",
            "Move disk 4 from source C to destination B\n",
            "Move disk 1 from source A to destination B\n",
            "Move disk 2 from source A to destination C\n",
            "Move disk 1 from source B to destination C\n",
            "Move disk 3 from source A to destination B\n",
            "Move disk 1 from source C to destination A\n",
            "Move disk 2 from source C to destination B\n",
            "Move disk 1 from source A to destination B\n"
          ],
          "name": "stdout"
        }
      ]
    },
    {
      "cell_type": "code",
      "metadata": {
        "id": "7ustKOIP-CqJ"
      },
      "source": [
        ""
      ],
      "execution_count": null,
      "outputs": []
    }
  ]
}