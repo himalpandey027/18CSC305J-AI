{
 "cells": [
  {
   "cell_type": "code",
   "execution_count": 1,
   "id": "ffa62128",
   "metadata": {},
   "outputs": [
    {
     "name": "stdout",
     "output_type": "stream",
     "text": [
      "EAT + THAT = APPLE \n",
      "74285 + 6034 = 80319 (mapping: {'g': 1, 'r': 3, 'z': 6, 'n': 8, 'y': 9, 'o': 4, 'i': 2, 't': 5, 'e': 0, 'p': 7})\n",
      "58369 + 2048 = 60417 (mapping: {'g': 1, 'r': 4, 'z': 2, 'n': 6, 'y': 7, 'o': 8, 'i': 3, 't': 9, 'e': 0, 'p': 5})\n",
      "38549 + 2068 = 40617 (mapping: {'g': 1, 'r': 6, 'z': 2, 'n': 4, 'y': 7, 'o': 8, 'i': 5, 't': 9, 'e': 0, 'p': 3})\n",
      "24735 + 6084 = 30819 (mapping: {'g': 1, 'r': 8, 'z': 6, 'n': 3, 'y': 9, 'o': 4, 'i': 7, 't': 5, 'e': 0, 'p': 2})\n",
      "71385 + 9041 = 80426 (mapping: {'g': 2, 'r': 4, 'z': 9, 'n': 8, 'y': 6, 'o': 1, 'i': 3, 't': 5, 'e': 0, 'p': 7})\n",
      "31745 + 9081 = 40826 (mapping: {'g': 2, 'r': 8, 'z': 9, 'n': 4, 'y': 6, 'o': 1, 'i': 7, 't': 5, 'e': 0, 'p': 3})\n",
      "62479 + 8052 = 70531 (mapping: {'g': 3, 'r': 5, 'z': 8, 'n': 7, 'y': 1, 'o': 2, 'i': 4, 't': 9, 'e': 0, 'p': 6})\n",
      "42659 + 8072 = 50731 (mapping: {'g': 3, 'r': 7, 'z': 8, 'n': 5, 'y': 1, 'o': 2, 'i': 6, 't': 9, 'e': 0, 'p': 4})\n",
      "71582 + 9061 = 80643 (mapping: {'g': 4, 'r': 6, 'z': 9, 'n': 8, 'y': 3, 'o': 1, 'i': 5, 't': 2, 'e': 0, 'p': 7})\n",
      "51762 + 9081 = 60843 (mapping: {'g': 4, 'r': 8, 'z': 9, 'n': 6, 'y': 3, 'o': 1, 'i': 7, 't': 2, 'e': 0, 'p': 5})\n",
      "98504 + 3168 = 101672 (mapping: {'g': 7, 'r': 6, 'z': 3, 'n': 0, 'y': 2, 'o': 8, 'i': 5, 't': 4, 'e': 1, 'p': 9})\n"
     ]
    }
   ],
   "source": [
    "import itertools\n",
    "\n",
    "def get_value(word, substitution):\n",
    "    s = 0\n",
    "    factor = 1\n",
    "    for letter in reversed(word):\n",
    "        s += factor * substitution[letter]\n",
    "        factor *= 10\n",
    "    return s\n",
    "\n",
    "def solve2(equation):\n",
    "    left, right = equation.lower().replace(' ', '').split('=')\n",
    "    left = left.split('+')\n",
    "    letters = set(right)\n",
    "    for word in left:\n",
    "        for letter in word:\n",
    "            letters.add(letter)\n",
    "    letters = list(letters)\n",
    "\n",
    "    digits = range(10)\n",
    "    for perm in itertools.permutations(digits, len(letters)):\n",
    "        sol = dict(zip(letters, perm))\n",
    "\n",
    "        if sum(get_value(word, sol) for word in left) == get_value(right, sol):\n",
    "            print(' + '.join(str(get_value(word, sol)) for word in left) + \" = {} (mapping: {})\".format(get_value(right, sol), sol))\n",
    "            \n",
    "\n",
    "\n",
    "print('EAT + THAT = APPLE ')\n",
    "solve2('POINT + ZERO = ENERGY ')"
   ]
  },
  {
   "cell_type": "code",
   "execution_count": null,
   "id": "ee366a69",
   "metadata": {},
   "outputs": [],
   "source": []
  }
 ],
 "metadata": {
  "kernelspec": {
   "display_name": "Python 3 (ipykernel)",
   "language": "python",
   "name": "python3"
  },
  "language_info": {
   "codemirror_mode": {
    "name": "ipython",
    "version": 3
   },
   "file_extension": ".py",
   "mimetype": "text/x-python",
   "name": "python",
   "nbconvert_exporter": "python",
   "pygments_lexer": "ipython3",
   "version": "3.9.13"
  }
 },
 "nbformat": 4,
 "nbformat_minor": 5
}
