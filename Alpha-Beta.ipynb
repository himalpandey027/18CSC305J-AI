{
 "cells": [
  {
   "cell_type": "code",
   "execution_count": null,
   "id": "1136d3cb",
   "metadata": {},
   "outputs": [],
   "source": [
    "MAX, MIN = 1000, -1000 \n",
    "def minimax(depth, nodeIndex, maximizingPlayer, \n",
    "            values, alpha, beta): \n",
    "\n",
    "    if depth == 3: \n",
    "        return values[nodeIndex] \n",
    "\n",
    "    if maximizingPlayer: \n",
    "    \n",
    "        best = MIN\n",
    "\n",
    "        for i in range(0, 2): \n",
    "\n",
    "            val = minimax(depth + 1, nodeIndex * 2 + i, False, values, alpha, beta) \n",
    "            best = max(best, val) \n",
    "            alpha = max(alpha, best) \n",
    "\n",
    "            if beta <= alpha: \n",
    "                break\n",
    "\n",
    "        return best \n",
    "\n",
    "    else: \n",
    "        best = MAX\n",
    "        for i in range(0, 2): \n",
    "        \n",
    "            val = minimax(depth + 1, nodeIndex * 2 + i, True, values, alpha, beta) \n",
    "            best = min(best, val) \n",
    "            beta = min(beta, best) \n",
    "            if beta <= alpha: \n",
    "                breakreturn best \n",
    "\t\n",
    "if __name__ == \"__main__\": \n",
    "\n",
    "    values = []\n",
    "    for i in range(0, 8):\n",
    "\n",
    "        x = int(input(f\"Enter Value {i}  : \"))\n",
    "        values.append(x)\n",
    "\n",
    "    print (\"The optimal value is :\", minimax(0, 0, True, values, MIN, MAX)) "
   ]
  },
  {
   "cell_type": "code",
   "execution_count": null,
   "id": "dbd6cab5",
   "metadata": {},
   "outputs": [],
   "source": []
  }
 ],
 "metadata": {
  "kernelspec": {
   "display_name": "Python 3 (ipykernel)",
   "language": "python",
   "name": "python3"
  },
  "language_info": {
   "codemirror_mode": {
    "name": "ipython",
    "version": 3
   },
   "file_extension": ".py",
   "mimetype": "text/x-python",
   "name": "python",
   "nbconvert_exporter": "python",
   "pygments_lexer": "ipython3",
   "version": "3.9.13"
  }
 },
 "nbformat": 4,
 "nbformat_minor": 5
}
