{
 "cells": [
  {
   "cell_type": "code",
   "execution_count": 1,
   "metadata": {
    "colab": {
     "base_uri": "https://localhost:8080/"
    },
    "id": "YJ12sG4P92gx",
    "outputId": "beb2de20-a81e-4820-a072-05d04977f00f"
   },
   "outputs": [
    {
     "name": "stdout",
     "output_type": "stream",
     "text": [
      "Enter Number Of Queens: 5\n"
     ]
    }
   ],
   "source": [
    "global N \n",
    "N = int(input(\"Enter Number Of Queens: \"))\n",
    "  \n",
    "def printSolution(board): \n",
    "    for i in range(N): \n",
    "        for j in range(N): \n",
    "            print (board[i][j], end = \" \") \n",
    "        print()\n",
    "  "
   ]
  },
  {
   "cell_type": "code",
   "execution_count": 4,
   "metadata": {
    "id": "a71qi5KI9_k-"
   },
   "outputs": [],
   "source": [
    "def isSafe(board, row, col):   \n",
    "    for i in range(col): \n",
    "        if board[row][i] == 1: \n",
    "            return False  \n",
    "    for i, j in zip(range(row, -1, -1),  \n",
    "                    range(col, -1, -1)): \n",
    "        if board[i][j] == 1: \n",
    "            return False\n",
    "  \n",
    "    for i, j in zip(range(row, N, 1),  \n",
    "                    range(col, -1, -1)): \n",
    "        if board[i][j] == 1: \n",
    "            return False  \n",
    "    return True"
   ]
  },
  {
   "cell_type": "code",
   "execution_count": 5,
   "metadata": {
    "id": "7ustKOIP-CqJ"
   },
   "outputs": [],
   "source": [
    "def solveNQUtil(board, col): \n",
    "      \n",
    "    if col >= N: \n",
    "        return True\n",
    "  \n",
    "    for i in range(N): \n",
    "  \n",
    "        if isSafe(board, i, col):               \n",
    "            board[i][col] = 1\n",
    "  \n",
    "            if solveNQUtil(board, col + 1) == True: \n",
    "                return True\n",
    "  \n",
    "            board[i][col] = 0\n",
    "\n",
    "    return False\n"
   ]
  },
  {
   "cell_type": "code",
   "execution_count": 6,
   "metadata": {
    "colab": {
     "base_uri": "https://localhost:8080/"
    },
    "id": "pbgh7w3R-W3K",
    "outputId": "ebcb835f-0b61-466c-daeb-5abfb126e082"
   },
   "outputs": [
    {
     "data": {
      "text/plain": [
       "[[0, 0, 0, 0, 0],\n",
       " [0, 0, 0, 0, 0],\n",
       " [0, 0, 0, 0, 0],\n",
       " [0, 0, 0, 0, 0],\n",
       " [0, 0, 0, 0, 0]]"
      ]
     },
     "execution_count": 6,
     "metadata": {
      "tags": []
     },
     "output_type": "execute_result"
    }
   ],
   "source": [
    "board = [[0] * N for i in range(N)]\n",
    "board"
   ]
  },
  {
   "cell_type": "code",
   "execution_count": 7,
   "metadata": {
    "id": "W-flfPjm-ZND"
   },
   "outputs": [],
   "source": [
    "def solveNQ(): \n",
    "    if solveNQUtil(board, 0) == False: \n",
    "        print (\"Solution does not exist\") \n",
    "        return False\n",
    "  \n",
    "    printSolution(board) \n",
    "    return True "
   ]
  },
  {
   "cell_type": "code",
   "execution_count": 8,
   "metadata": {
    "colab": {
     "base_uri": "https://localhost:8080/"
    },
    "id": "gmklAzcL-bpd",
    "outputId": "30ce2fb8-56fc-4a06-e14e-cb6b959821b5"
   },
   "outputs": [
    {
     "name": "stdout",
     "output_type": "stream",
     "text": [
      "1 0 0 0 0 \n",
      "0 0 0 1 0 \n",
      "0 1 0 0 0 \n",
      "0 0 0 0 1 \n",
      "0 0 1 0 0 \n"
     ]
    },
    {
     "data": {
      "text/plain": [
       "True"
      ]
     },
     "execution_count": 8,
     "metadata": {
      "tags": []
     },
     "output_type": "execute_result"
    }
   ],
   "source": [
    "solveNQ()"
   ]
  },
  {
   "cell_type": "code",
   "execution_count": null,
   "metadata": {
    "id": "Op_wZ4BP-dri"
   },
   "outputs": [],
   "source": []
  }
 ],
 "metadata": {
  "colab": {
   "name": "N-Queens.ipynb",
   "provenance": []
  },
  "kernelspec": {
   "display_name": "Python 3 (ipykernel)",
   "language": "python",
   "name": "python3"
  },
  "language_info": {
   "codemirror_mode": {
    "name": "ipython",
    "version": 3
   },
   "file_extension": ".py",
   "mimetype": "text/x-python",
   "name": "python",
   "nbconvert_exporter": "python",
   "pygments_lexer": "ipython3",
   "version": "3.9.13"
  }
 },
 "nbformat": 4,
 "nbformat_minor": 1
}
