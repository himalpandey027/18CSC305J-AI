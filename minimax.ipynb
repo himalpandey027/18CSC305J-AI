{
  "nbformat": 4,
  "nbformat_minor": 0,
  "metadata": {
    "colab": {
      "name": "minimax.ipynb",
      "provenance": []
    },
    "kernelspec": {
      "name": "python3",
      "display_name": "Python 3"
    },
    "language_info": {
      "name": "python"
    }
  },
  "cells": [
    {
      "cell_type": "code",
      "metadata": {
        "colab": {
          "base_uri": "https://localhost:8080/"
        },
        "id": "YJ12sG4P92gx",
        "outputId": "9fcba472-3a52-4aef-9e1f-41ebe5dae7ce"
      },
      "source": [
        "import math \n",
        "  \n",
        "def minimax (curDepth, nodeIndex, \n",
        "             maxTurn, scores,  \n",
        "             targetDepth): \n",
        "  \n",
        "    # base case : targetDepth reached \n",
        "    if (curDepth == targetDepth):  \n",
        "        return scores[nodeIndex] \n",
        "      \n",
        "    if (maxTurn): \n",
        "        return max(minimax(curDepth + 1, nodeIndex * 2,  \n",
        "                    False, scores, targetDepth),  \n",
        "                   minimax(curDepth + 1, nodeIndex * 2 + 1,  \n",
        "                    False, scores, targetDepth)) \n",
        "      \n",
        "    else: \n",
        "        return min(minimax(curDepth + 1, nodeIndex * 2,  \n",
        "                     True, scores, targetDepth),  \n",
        "                   minimax(curDepth + 1, nodeIndex * 2 + 1,  \n",
        "                     True, scores, targetDepth)) \n",
        "      \n",
        "# Driver code \n",
        "scores = [3, 5, 2, 9, 12, 5, 23, 23] \n",
        "  \n",
        "treeDepth = math.log(len(scores), 2) \n",
        "  \n",
        "print(\"The optimal value is : \", end = \"\") \n",
        "print(minimax(0, 0, True, scores, treeDepth))"
      ],
      "execution_count": 21,
      "outputs": [
        {
          "output_type": "stream",
          "text": [
            "The optimal value is : 12\n"
          ],
          "name": "stdout"
        }
      ]
    },
    {
      "cell_type": "code",
      "metadata": {
        "id": "CiXr-DVs_ujY"
      },
      "source": [
        ""
      ],
      "execution_count": null,
      "outputs": []
    }
  ]
}